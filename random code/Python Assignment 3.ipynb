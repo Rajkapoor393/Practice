{
 "cells": [
  {
   "cell_type": "markdown",
   "metadata": {},
   "source": [
    "### 1.1 Write a Python Program to implement your own myreduce() function which works exactly like Python's built-in function reduce()"
   ]
  },
  {
   "cell_type": "code",
   "execution_count": 19,
   "metadata": {},
   "outputs": [],
   "source": [
    "# defining multiply\n",
    "def multiply(x,y): \n",
    "    return x + y"
   ]
  },
  {
   "cell_type": "code",
   "execution_count": 20,
   "metadata": {},
   "outputs": [
    {
     "name": "stdout",
     "output_type": "stream",
     "text": [
      "Sum on list [1,2,3] using custom reduce function = 10\n"
     ]
    }
   ],
   "source": [
    "#custom reduce function\n",
    "def myreduce(func, my_list):\n",
    "    # Get first item of my_list and assign to result\n",
    "    result = my_list[0]\n",
    "    # iterate over remaining items in my_list and apply reduction function \n",
    "    for item in my_list[1:]:\n",
    "        result = func(result, item)\n",
    "    return result\n",
    "print (\"Sum on list [1,2,3] using custom reduce function = \"   + str(myreduce(multiply, [1,2,3,4])) )"
   ]
  },
  {
   "cell_type": "markdown",
   "metadata": {},
   "source": [
    "### 1.2 Write a Python program to implement your own myfilter() function which works exactly like Python's built-in function filter()"
   ]
  },
  {
   "cell_type": "code",
   "execution_count": 51,
   "metadata": {},
   "outputs": [
    {
     "name": "stdout",
     "output_type": "stream",
     "text": [
      "Filter only positive Integers on list [25,30,15,-45,11,-95] using custom filter function[25, 30, 15, 11]\n"
     ]
    }
   ],
   "source": [
    "# defining ispositive function\n",
    "def ispositive(x):\n",
    "    if (x < 0): \n",
    "        return False \n",
    "    else:\n",
    "        return True\n",
    "\n",
    "# Custom filter function\n",
    "def myfilter(anyfunc, sequence):\n",
    "    # Initialize empty list\n",
    "    result = []\n",
    "    # iterate over sequence of items in sequence and apply filter function\n",
    "    for item in sequence:\n",
    "        if anyfunc(item):\n",
    "            result.append(item)\n",
    "\n",
    "        # return final output\n",
    "    return result\n",
    "\n",
    "print (\"Filter only positive Integers on list [25,30,15,-45,11,-95] using custom filter function\"  + str(myfilter(ispositive, [25,30,15,-45,11,-95])))"
   ]
  },
  {
   "cell_type": "code",
   "execution_count": null,
   "metadata": {},
   "outputs": [],
   "source": []
  },
  {
   "cell_type": "code",
   "execution_count": null,
   "metadata": {},
   "outputs": [],
   "source": []
  }
 ],
 "metadata": {
  "kernelspec": {
   "display_name": "Python 3",
   "language": "python",
   "name": "python3"
  },
  "language_info": {
   "codemirror_mode": {
    "name": "ipython",
    "version": 3
   },
   "file_extension": ".py",
   "mimetype": "text/x-python",
   "name": "python",
   "nbconvert_exporter": "python",
   "pygments_lexer": "ipython3",
   "version": "3.7.4"
  }
 },
 "nbformat": 4,
 "nbformat_minor": 2
}
