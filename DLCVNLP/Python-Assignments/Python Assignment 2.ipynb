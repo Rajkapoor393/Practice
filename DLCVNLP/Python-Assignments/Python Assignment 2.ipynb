{
 "cells": [
  {
   "cell_type": "markdown",
   "metadata": {},
   "source": [
    "# Task 1"
   ]
  },
  {
   "cell_type": "markdown",
   "metadata": {},
   "source": [
    "### 1.1 Write a Python Program to implement your own myreduce() function which works exactly like Python's built-in function reduce()"
   ]
  },
  {
   "cell_type": "code",
   "execution_count": 19,
   "metadata": {},
   "outputs": [],
   "source": [
    "# defining multiply\n",
    "def multiply(x,y): \n",
    "    return x + y"
   ]
  },
  {
   "cell_type": "code",
   "execution_count": 20,
   "metadata": {},
   "outputs": [
    {
     "name": "stdout",
     "output_type": "stream",
     "text": [
      "Sum on list [1,2,3] using custom reduce function = 10\n"
     ]
    }
   ],
   "source": [
    "#custom reduce function\n",
    "def myreduce(func, my_list):\n",
    "    # Get first item of my_list and assign to result\n",
    "    result = my_list[0]\n",
    "    # iterate over remaining items in my_list and apply reduction function \n",
    "    for item in my_list[1:]:\n",
    "        result = func(result, item)\n",
    "    return result\n",
    "print (\"Sum on list [1,2,3] using custom reduce function = \"   + str(myreduce(multiply, [1,2,3,4])) )"
   ]
  },
  {
   "cell_type": "markdown",
   "metadata": {},
   "source": [
    "### 1.2 Write a Python program to implement your own myfilter() function which works exactly like Python's built-in function filter()"
   ]
  },
  {
   "cell_type": "code",
   "execution_count": 51,
   "metadata": {},
   "outputs": [
    {
     "name": "stdout",
     "output_type": "stream",
     "text": [
      "Filter only positive Integers on list [25,30,15,-45,11,-95] using custom filter function[25, 30, 15, 11]\n"
     ]
    }
   ],
   "source": [
    "# defining ispositive function\n",
    "def ispositive(x):\n",
    "    if (x < 0): \n",
    "        return False \n",
    "    else:\n",
    "        return True\n",
    "\n",
    "# Custom filter function\n",
    "def myfilter(anyfunc, sequence):\n",
    "    # Initialize empty list\n",
    "    result = []\n",
    "    # iterate over sequence of items in sequence and apply filter function\n",
    "    for item in sequence:\n",
    "        if anyfunc(item):\n",
    "            result.append(item)\n",
    "\n",
    "        # return final output\n",
    "    return result\n",
    "\n",
    "print (\"Filter only positive Integers on list [25,30,15,-45,11,-95] using custom filter function\"  + str(myfilter(ispositive, [25,30,15,-45,11,-95])))"
   ]
  },
  {
   "cell_type": "markdown",
   "metadata": {},
   "source": [
    "### 2. Implement List comprehensions to produce the following lists. \n",
    " \n",
    "['A', 'C', 'A', 'D', 'G', 'I', ’L’, ‘ D’] \n",
    " \n",
    "['x', 'xx', 'xxx', 'xxxx', 'y', 'yy', 'yyy', 'yyyy', 'z', 'zz', 'zzz', 'zzzz'] \n",
    " \n",
    "['x', 'y', 'z', 'xx', 'yy', 'zz', 'xx', 'yy', 'zz', 'xxxx', 'yyyy', 'zzzz'] \n",
    " \n",
    "[[2], [3], [4], [3], [4], [5], [4], [5], [6]] \n",
    " \n",
    "[[2, 3, 4, 5], [3, 4, 5, 6], [4, 5, 6, 7], [5, 6, 7, 8]] \n",
    " \n",
    "[(1, 1), (2, 1), (3, 1), (1, 2), (2, 2), (3, 2), (1, 3), (2, 3), (3, 3)] "
   ]
  },
  {
   "cell_type": "code",
   "execution_count": 2,
   "metadata": {},
   "outputs": [
    {
     "data": {
      "text/plain": [
       "['A', 'C', 'A', 'D', 'G', 'I', 'L', 'D']"
      ]
     },
     "execution_count": 2,
     "metadata": {},
     "output_type": "execute_result"
    }
   ],
   "source": [
    "a = ['A','C', 'A', 'D', 'G', 'I', 'L', 'D']\n",
    "m = []\n",
    "[m.append(a[i]) for i in range(len(a))]\n",
    "m"
   ]
  },
  {
   "cell_type": "code",
   "execution_count": 3,
   "metadata": {},
   "outputs": [
    {
     "data": {
      "text/plain": [
       "['x', 'y', 'z', 'xx', 'yy', 'zz', 'xxx', 'yyy', 'zzz', 'xxxx', 'yyyy', 'zzzz']"
      ]
     },
     "execution_count": 3,
     "metadata": {},
     "output_type": "execute_result"
    }
   ],
   "source": [
    "s = ['x','y','z']\n",
    "emptyList =[]\n",
    "[(emptyList.append(s[i]*j)) for j in range(1, len(s)+2) for i in range(len(s))]\n",
    "emptyList"
   ]
  },
  {
   "cell_type": "code",
   "execution_count": 4,
   "metadata": {},
   "outputs": [
    {
     "data": {
      "text/plain": [
       "[[2], [3], [4], [3], [4], [5], [4], [5], [6]]"
      ]
     },
     "execution_count": 4,
     "metadata": {},
     "output_type": "execute_result"
    }
   ],
   "source": [
    "# [[2], [3], [4], [3], [4], [5], [4], [5], [6]]\n",
    "f = [1,2,3]\n",
    "emptyList = []\n",
    "[(emptyList.append([f[i]+j])) for j in range(1,len(f)+1) for i in range(len(f))]\n",
    "emptyList"
   ]
  },
  {
   "cell_type": "code",
   "execution_count": 17,
   "metadata": {},
   "outputs": [
    {
     "data": {
      "text/plain": [
       "[[2, 3, 4, 5], [3, 4, 5, 6], [4, 5, 6, 7], [5, 6, 7, 8]]"
      ]
     },
     "execution_count": 17,
     "metadata": {},
     "output_type": "execute_result"
    }
   ],
   "source": [
    "# [[2, 3, 4, 5], [3, 4, 5, 6], [4, 5, 6, 7], [5, 6, 7, 8]]\n",
    "f = [1,2,3,4]\n",
    "emptyList1 = []\n",
    "emptyList2 = []\n",
    "for i in range(len(f)):\n",
    "    for j in range(1,len(f)+1):\n",
    "        emptyList1.append(f[i]+j)\n",
    "    emptyList2.append(emptyList1)\n",
    "    emptyList1 = []\n",
    "\n",
    "emptyList2"
   ]
  },
  {
   "cell_type": "markdown",
   "metadata": {},
   "source": [
    "### 3. Implement a function longestWord() that takes a list of words and returns the longest one. "
   ]
  },
  {
   "cell_type": "code",
   "execution_count": 8,
   "metadata": {},
   "outputs": [
    {
     "name": "stdout",
     "output_type": "stream",
     "text": [
      "Please enter a few wordsMy name is Raj Kapoor\n"
     ]
    },
    {
     "data": {
      "text/plain": [
       "'Kapoor'"
      ]
     },
     "execution_count": 8,
     "metadata": {},
     "output_type": "execute_result"
    }
   ],
   "source": [
    "def longestWord(word_list):  \n",
    "    longest_word =  max(word_list, key=len)\n",
    "    return longest_word\n",
    "words = input('Please enter a few words')  \n",
    "word_list = words.split()\n",
    "longestWord(word_list)"
   ]
  },
  {
   "cell_type": "markdown",
   "metadata": {},
   "source": [
    "# Task 2"
   ]
  },
  {
   "cell_type": "markdown",
   "metadata": {},
   "source": [
    "### 1.1 Write a Python Program(with class concepts) to find the area of the triangle using the below formula. \n",
    " \n",
    "### area = (s*(s-a)*(s-b)*(s-c)) ** 0.5 \n",
    " \n",
    "### Function to take the length of the sides of triangle from user should be defined in the parent class and function to calculate the area should be defined in subclass. "
   ]
  },
  {
   "cell_type": "code",
   "execution_count": 61,
   "metadata": {},
   "outputs": [],
   "source": [
    "area  = 0\n",
    "class areaOfTriangle():\n",
    "    def length(self):\n",
    "        self.side1= int(input(\"Enter the length of first side of triangle \"))\n",
    "        self.side2 = int(input('Enter the length of second side of triangle '))\n",
    "        self.side3 = int(input('Enter the length of third side of triangle '))\n",
    "        \n",
    "    def area_triangle(self):\n",
    "        self.s = self.side1 + self.side2 + self.side3\n",
    "        area = (self.s*(self.s - self.side1)*(self.s - self.side2)*(self.s - self.side3))*0.5\n",
    "        \n",
    "        return \"Area of the triangle is \",area\n",
    "    \n"
   ]
  },
  {
   "cell_type": "code",
   "execution_count": 62,
   "metadata": {},
   "outputs": [
    {
     "name": "stdout",
     "output_type": "stream",
     "text": [
      "Enter the length of first side of triangle 2\n",
      "Enter the length of second side of triangle 3\n",
      "Enter the length of third side of triangle 5\n"
     ]
    },
    {
     "data": {
      "text/plain": [
       "('Area of the triangle is ', 1400.0)"
      ]
     },
     "execution_count": 62,
     "metadata": {},
     "output_type": "execute_result"
    }
   ],
   "source": [
    "a = areaOfTriangle()\n",
    "a.length()\n",
    "a.area_triangle()"
   ]
  },
  {
   "cell_type": "markdown",
   "metadata": {},
   "source": [
    "### 1.2 Write a function filter_long_words() that takes a list of words and an integer n and returns the list of words that are longer than n"
   ]
  },
  {
   "cell_type": "code",
   "execution_count": 64,
   "metadata": {},
   "outputs": [],
   "source": [
    "list_of_words = ['raj','ram', 'ramesh', 'Sunday', 'Monday', 'Tuesday','january','february','march','baisakh', 'jesth','Asar','Bhadra','asoj','kartik','hahahhahahhahahha','heheheheheheh','yeyeyeyeyeye','nanananannanna','helloworld']\n",
    "def filter_long_words(list_of_words, n):\n",
    "    final_list = []\n",
    "    for i in range(len(list_of_words)):\n",
    "        if(n<len(list_of_words[i])):\n",
    "            final_list.append(list_of_words[i])\n",
    "    return final_list"
   ]
  },
  {
   "cell_type": "code",
   "execution_count": 73,
   "metadata": {},
   "outputs": [
    {
     "data": {
      "text/plain": [
       "['Tuesday',\n",
       " 'january',\n",
       " 'february',\n",
       " 'baisakh',\n",
       " 'hahahhahahhahahha',\n",
       " 'heheheheheheh',\n",
       " 'yeyeyeyeyeye',\n",
       " 'nanananannanna',\n",
       " 'helloworld']"
      ]
     },
     "execution_count": 73,
     "metadata": {},
     "output_type": "execute_result"
    }
   ],
   "source": [
    "filter_long_words(list_of_words, 6)"
   ]
  },
  {
   "cell_type": "markdown",
   "metadata": {},
   "source": [
    "### 2.1 Write a Python program using function concept that maps list of words into a list of integers representing the lengths of the corresponding words\n",
    "\n",
    "### Hint: \n",
    "If a list [ ab,cde,erty] is passed on to the python function output should come as [2,3,4]\n",
    "Here 2,3 and 4 are the lengths of the words in the list"
   ]
  },
  {
   "cell_type": "code",
   "execution_count": 76,
   "metadata": {},
   "outputs": [],
   "source": [
    "list_of_words = ['raj','ram', 'ramesh', 'Sunday', 'Monday', 'Tuesday','january','february','march','baisakh', 'jesth','Asar','Bhadra','asoj','kartik','hahahhahahhahahha','heheheheheheh','yeyeyeyeyeye','nanananannanna','helloworld']\n",
    "def filter_long_words(list_of_words):\n",
    "    final_list = []\n",
    "    for i in range(len(list_of_words)):\n",
    "        final_list.append(len(list_of_words[i]))\n",
    "    return final_list"
   ]
  },
  {
   "cell_type": "code",
   "execution_count": 77,
   "metadata": {},
   "outputs": [
    {
     "data": {
      "text/plain": [
       "[3, 3, 6, 6, 6, 7, 7, 8, 5, 7, 5, 4, 6, 4, 6, 17, 13, 12, 14, 10]"
      ]
     },
     "execution_count": 77,
     "metadata": {},
     "output_type": "execute_result"
    }
   ],
   "source": [
    "filter_long_words(list_of_words)"
   ]
  },
  {
   "cell_type": "markdown",
   "metadata": {},
   "source": [
    "### 2.2 Write a Python function which takes a character (i.e. a string of length 1) and returns True if it is a vowel, False otherwise."
   ]
  },
  {
   "cell_type": "code",
   "execution_count": 86,
   "metadata": {},
   "outputs": [
    {
     "name": "stdout",
     "output_type": "stream",
     "text": [
      "Enter the character to identify vowel \n",
      "asadfsf\n",
      "Your variable is  a\n",
      "True\n"
     ]
    }
   ],
   "source": [
    "vowels = ['a','e','i','o','u']\n",
    "\n",
    "def vowel_identify(character,vowel):\n",
    "    if character in vowel:\n",
    "        print(True)\n",
    "    else:\n",
    "        print(False)\n",
    "        \n",
    "character = input(\"Enter the character to identify vowel \\n\")[0]\n",
    "\n",
    "print('Your variable is ', character)\n",
    "vowel_identify(character, vowels)"
   ]
  }
 ],
 "metadata": {
  "kernelspec": {
   "display_name": "Python 3",
   "language": "python",
   "name": "python3"
  },
  "language_info": {
   "codemirror_mode": {
    "name": "ipython",
    "version": 3
   },
   "file_extension": ".py",
   "mimetype": "text/x-python",
   "name": "python",
   "nbconvert_exporter": "python",
   "pygments_lexer": "ipython3",
   "version": "3.7.4"
  }
 },
 "nbformat": 4,
 "nbformat_minor": 2
}
