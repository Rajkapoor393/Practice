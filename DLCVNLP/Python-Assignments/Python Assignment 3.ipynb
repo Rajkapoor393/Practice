{
 "cells": [
  {
   "cell_type": "markdown",
   "metadata": {},
   "source": [
    "# Task 1"
   ]
  },
  {
   "cell_type": "markdown",
   "metadata": {},
   "source": [
    "### 1. Write a function to compute 5/0 and use try/except to catch the exceptions. "
   ]
  },
  {
   "cell_type": "code",
   "execution_count": 1,
   "metadata": {},
   "outputs": [
    {
     "name": "stdout",
     "output_type": "stream",
     "text": [
      "Enter the number: 0\n",
      "There is problem in the code\n"
     ]
    }
   ],
   "source": [
    "try:\n",
    "    a = int(input(\"Enter the number: \"))\n",
    "    b = 5/a\n",
    "    print(b)\n",
    "except:\n",
    "    print(\"There is problem in the code\")"
   ]
  },
  {
   "cell_type": "markdown",
   "metadata": {},
   "source": [
    "### 2. Implement a Python program to generate all sentences where subject is in [\"Americans\", \"Indians\"] and verb is in [\"Play\", \"watch\"] and the object is in [\"Baseball\",\"cricket\"]. "
   ]
  },
  {
   "cell_type": "code",
   "execution_count": 7,
   "metadata": {},
   "outputs": [
    {
     "name": "stdout",
     "output_type": "stream",
     "text": [
      "Americans  play Baseball \n",
      "Americans  play Cricket\n",
      "Americans  watch Baseball \n",
      "Americans  watch Cricket\n",
      "Indians play Baseball \n",
      "Indians play Cricket\n",
      "Indians watch Baseball \n",
      "Indians watch Cricket\n"
     ]
    }
   ],
   "source": [
    "subjects = ['Americans ', 'Indians']\n",
    "verbs= ['play', 'watch']\n",
    "objects=['Baseball ', 'Cricket']\n",
    "\n",
    "for i in subjects:\n",
    "    for j in verbs:\n",
    "        for a in objects:\n",
    "            print(i,j,a)"
   ]
  },
  {
   "cell_type": "markdown",
   "metadata": {},
   "source": [
    "# Task 2:"
   ]
  },
  {
   "cell_type": "markdown",
   "metadata": {},
   "source": [
    "Write a function so that the columns of the output matrix are powers of the input vector.  \n",
    "The order of the powers is determined by the increasing boolean argument. Specifically, when              increasing is False, the i-th output column is the input vector raised element-wise to the power                of N - i - 1. "
   ]
  },
  {
   "cell_type": "code",
   "execution_count": 88,
   "metadata": {},
   "outputs": [
    {
     "name": "stdout",
     "output_type": "stream",
     "text": [
      "[[ 1  1  1]\n",
      " [ 4  2  1]\n",
      " [ 9  3  1]\n",
      " [16  4  1]\n",
      " [25  5  1]]\n"
     ]
    }
   ],
   "source": [
    "import numpy as np\n",
    "op_matx = []\n",
    "def gen_vander_matrix(vector, n, increasing=False):\n",
    "    \n",
    "    if not increasing:\n",
    "        for i in range(n):\n",
    "            for x in vector:\n",
    "                op_matx.append(x**(n-1-i))\n",
    "        x =np.array(op_matx).reshape(n, ipvector.size).T\n",
    "        print(x)\n",
    "                \n",
    "    else:\n",
    "        for i in range(n):\n",
    "            for x in vector:\n",
    "                op_matx.append(x**i)\n",
    "        x =np.array(op_matx).reshape(n,ipvector.size).T\n",
    "        print(x)\n",
    "                \n",
    "\n",
    "ipvector = np.array([1,2,3,4,5])\n",
    "n =3\n",
    "op_matx_dec = gen_vander_matrix(ipvector, n, False)\n",
    "# op_matx_inc = gen_vander_matrix(ipvector, n, True)"
   ]
  },
  {
   "cell_type": "code",
   "execution_count": null,
   "metadata": {},
   "outputs": [],
   "source": []
  }
 ],
 "metadata": {
  "kernelspec": {
   "display_name": "Python 3",
   "language": "python",
   "name": "python3"
  },
  "language_info": {
   "codemirror_mode": {
    "name": "ipython",
    "version": 3
   },
   "file_extension": ".py",
   "mimetype": "text/x-python",
   "name": "python",
   "nbconvert_exporter": "python",
   "pygments_lexer": "ipython3",
   "version": "3.7.4"
  }
 },
 "nbformat": 4,
 "nbformat_minor": 2
}
