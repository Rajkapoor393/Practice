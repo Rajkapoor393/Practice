{
 "cells": [
  {
   "cell_type": "code",
   "execution_count": 84,
   "metadata": {},
   "outputs": [
    {
     "name": "stdout",
     "output_type": "stream",
     "text": [
      "4613732\n"
     ]
    }
   ],
   "source": [
    "def fabnoic(num):\n",
    "    a , b = 0,1\n",
    "    sumOfNum = 0\n",
    "    for i in range(0,num):\n",
    "        sumOfNum = a+b\n",
    "        a,b = b,sumOfNum\n",
    "        if sumOfNum <4000000:\n",
    "            listOfFabnoic.append(sumOfNum)\n",
    "        else:\n",
    "            break\n",
    "\n",
    "if __name__ == '__main__':\n",
    "    listOfFabnoic = []\n",
    "    sumOfFabnoic =0\n",
    "    fabnoic(1000)\n",
    "    for x in range(len(listOfFabnoic)):\n",
    "        if (listOfFabnoic[x]%2 ==0):\n",
    "            sumOfFabnoic += listOfFabnoic[x]\n",
    "            \n",
    "    print(u)"
   ]
  },
  {
   "cell_type": "code",
   "execution_count": null,
   "metadata": {},
   "outputs": [],
   "source": []
  }
 ],
 "metadata": {
  "kernelspec": {
   "display_name": "Python 3",
   "language": "python",
   "name": "python3"
  },
  "language_info": {
   "codemirror_mode": {
    "name": "ipython",
    "version": 3
   },
   "file_extension": ".py",
   "mimetype": "text/x-python",
   "name": "python",
   "nbconvert_exporter": "python",
   "pygments_lexer": "ipython3",
   "version": "3.7.4"
  }
 },
 "nbformat": 4,
 "nbformat_minor": 2
}
