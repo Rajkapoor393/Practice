{
 "cells": [
  {
   "cell_type": "code",
   "execution_count": 42,
   "metadata": {},
   "outputs": [
    {
     "name": "stdout",
     "output_type": "stream",
     "text": [
      "6857\n"
     ]
    }
   ],
   "source": [
    "import math\n",
    "list1 = []\n",
    "def primeFactors(n):\n",
    "    # Print the number of two's that divide n\n",
    "    while n %2 ==0:\n",
    "        list1.append(2)\n",
    "        n = n/2\n",
    "        \n",
    "    # n must be odd at this point \n",
    "    # so a skip of 2 ( i = i + 2) can be used\n",
    "    for i in range(3,int(math.sqrt(n)+1),2):\n",
    "        # while i divides n , print i ad divide n\n",
    "        while(n%i ==0):\n",
    "            list1.append(i)\n",
    "            n = n/i\n",
    "    # Condition if n is a prime \n",
    "    # number greater than 2        \n",
    "    if(n >2):\n",
    "        print(n)\n",
    "        \n",
    "# Driver Program to test above function\n",
    "n =600851475143\n",
    "primeFactors(n)\n",
    "print(max(list1))"
   ]
  },
  {
   "cell_type": "code",
   "execution_count": null,
   "metadata": {},
   "outputs": [],
   "source": []
  }
 ],
 "metadata": {
  "kernelspec": {
   "display_name": "Python 3",
   "language": "python",
   "name": "python3"
  },
  "language_info": {
   "codemirror_mode": {
    "name": "ipython",
    "version": 3
   },
   "file_extension": ".py",
   "mimetype": "text/x-python",
   "name": "python",
   "nbconvert_exporter": "python",
   "pygments_lexer": "ipython3",
   "version": "3.7.4"
  }
 },
 "nbformat": 4,
 "nbformat_minor": 2
}
